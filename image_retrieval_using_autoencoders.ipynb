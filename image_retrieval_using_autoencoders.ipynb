{
  "nbformat": 4,
  "nbformat_minor": 0,
  "metadata": {
    "colab": {
      "name": "image retrieval using autoencoders.ipynb",
      "provenance": [],
      "authorship_tag": "ABX9TyMXPF1qdtcmbIoBgiWV0wO8",
      "include_colab_link": true
    },
    "kernelspec": {
      "name": "python3",
      "display_name": "Python 3"
    },
    "accelerator": "GPU"
  },
  "cells": [
    {
      "cell_type": "markdown",
      "metadata": {
        "id": "view-in-github",
        "colab_type": "text"
      },
      "source": [
        "<a href=\"https://colab.research.google.com/github/pavansai26/similar-image-retrieval-using-autoencoders/blob/master/image_retrieval_using_autoencoders.ipynb\" target=\"_parent\"><img src=\"https://colab.research.google.com/assets/colab-badge.svg\" alt=\"Open In Colab\"/></a>"
      ]
    },
    {
      "cell_type": "markdown",
      "metadata": {
        "id": "aiokOIIQoIEV",
        "colab_type": "text"
      },
      "source": [
        "# **importing necessary libraries**"
      ]
    },
    {
      "cell_type": "code",
      "metadata": {
        "id": "GDOulbuVoRRd",
        "colab_type": "code",
        "colab": {
          "base_uri": "https://localhost:8080/",
          "height": 72
        },
        "outputId": "c68f55e6-3f93-49b6-f5d0-ac2e18520c3e"
      },
      "source": [
        "import numpy as np\n",
        "import matplotlib.pyplot as plt\n",
        "import seaborn as sns\n",
        "import cv2\n",
        "import zipfile\n",
        "import pathlib\n",
        "import tensorflow as tf\n",
        "import glob\n",
        "import os\n",
        "from PIL import Image\n",
        "import math"
      ],
      "execution_count": 1,
      "outputs": [
        {
          "output_type": "stream",
          "text": [
            "/usr/local/lib/python3.6/dist-packages/statsmodels/tools/_testing.py:19: FutureWarning: pandas.util.testing is deprecated. Use the functions in the public API at pandas.testing instead.\n",
            "  import pandas.util.testing as tm\n"
          ],
          "name": "stderr"
        }
      ]
    },
    {
      "cell_type": "code",
      "metadata": {
        "id": "-fGXMqDUmjZm",
        "colab_type": "code",
        "colab": {}
      },
      "source": [
        "from tensorflow.keras.layers import BatchNormalization\n",
        "from tensorflow.keras.layers import Conv2D\n",
        "from tensorflow.keras.layers import Conv2DTranspose\n",
        "from tensorflow.keras.layers import LeakyReLU\n",
        "from tensorflow.keras.layers import Activation\n",
        "from tensorflow.keras.layers import Flatten\n",
        "from tensorflow.keras.layers import Dense\n",
        "from tensorflow.keras.layers import Reshape\n",
        "from tensorflow.keras.layers import Input\n",
        "from tensorflow.keras.models import Model\n",
        "from tensorflow.keras import backend as K\n",
        "from tensorflow.keras.optimizers import Adam"
      ],
      "execution_count": null,
      "outputs": []
    },
    {
      "cell_type": "code",
      "metadata": {
        "id": "4PNl2iFcrqY9",
        "colab_type": "code",
        "colab": {}
      },
      "source": [
        "import warnings\n",
        "warnings.filterwarnings(\"ignore\", category=DeprecationWarning)\n",
        "warnings.filterwarnings(\"ignore\", category=UserWarning)\n",
        "warnings.filterwarnings(\"ignore\", category=RuntimeWarning)\n",
        "warnings.filterwarnings(\"ignore\", category=FutureWarning)\n",
        "warnings.filterwarnings(\"ignore\", category=FutureWarning)"
      ],
      "execution_count": null,
      "outputs": []
    },
    {
      "cell_type": "markdown",
      "metadata": {
        "id": "GSphds9hrua_",
        "colab_type": "text"
      },
      "source": [
        "# **accessing the drive**"
      ]
    },
    {
      "cell_type": "code",
      "metadata": {
        "id": "791q54daqLlo",
        "colab_type": "code",
        "colab": {
          "base_uri": "https://localhost:8080/",
          "height": 124
        },
        "outputId": "398a4728-c057-4885-fc40-0b4b1fcbd5f0"
      },
      "source": [
        "from google.colab import drive\n",
        "drive.mount('/gdrive')"
      ],
      "execution_count": null,
      "outputs": [
        {
          "output_type": "stream",
          "text": [
            "Go to this URL in a browser: https://accounts.google.com/o/oauth2/auth?client_id=947318989803-6bn6qk8qdgf4n4g3pfee6491hc0brc4i.apps.googleusercontent.com&redirect_uri=urn%3aietf%3awg%3aoauth%3a2.0%3aoob&scope=email%20https%3a%2f%2fwww.googleapis.com%2fauth%2fdocs.test%20https%3a%2f%2fwww.googleapis.com%2fauth%2fdrive%20https%3a%2f%2fwww.googleapis.com%2fauth%2fdrive.photos.readonly%20https%3a%2f%2fwww.googleapis.com%2fauth%2fpeopleapi.readonly&response_type=code\n",
            "\n",
            "Enter your authorization code:\n",
            "··········\n",
            "Mounted at /gdrive\n"
          ],
          "name": "stdout"
        }
      ]
    },
    {
      "cell_type": "markdown",
      "metadata": {
        "id": "eDgR1oKTegLH",
        "colab_type": "text"
      },
      "source": [
        "# **getting the data**"
      ]
    },
    {
      "cell_type": "code",
      "metadata": {
        "id": "jNaQS3hPy-WL",
        "colab_type": "code",
        "colab": {}
      },
      "source": [
        "training_data = []\n",
        "file = '/gdrive/My Drive/Colab Notebooks/dataset'\n",
        "for img in (os.listdir(file)):\n",
        "  image = Image.open(img)\n",
        "  data = asarray(image)\n",
        "  image2 = Image.fromarray(data)\n",
        "  img_array = cv2.imread(image2)\n",
        "  new_array = cv2.resize(img,(512,512))\n",
        "  training_data.append(new_array)\n",
        "return training_data\n",
        "\n",
        "\n",
        "  \n",
        "\n",
        "  \n",
        "   "
      ],
      "execution_count": null,
      "outputs": []
    },
    {
      "cell_type": "markdown",
      "metadata": {
        "id": "iyGlEe-xhj5q",
        "colab_type": "text"
      },
      "source": [
        "# **data splitting**"
      ]
    },
    {
      "cell_type": "code",
      "metadata": {
        "id": "ZlEbZyldgyGH",
        "colab_type": "code",
        "colab": {}
      },
      "source": [
        "x_train = 0.8*training_data()\n",
        "x_test = (training_data-(0.8*training_data()))"
      ],
      "execution_count": null,
      "outputs": []
    },
    {
      "cell_type": "markdown",
      "metadata": {
        "id": "owYHYhPOg4kN",
        "colab_type": "text"
      },
      "source": [
        "# **data resizing**"
      ]
    },
    {
      "cell_type": "code",
      "metadata": {
        "id": "9YDqs7O8gVQh",
        "colab_type": "code",
        "colab": {}
      },
      "source": [
        "X_train = np.reshape(X_train, (len(X_train), 512, 512, 3)) / 255.\n",
        "X_test = np.reshape(X_test, (len(X_test), 512, 512, 3)) / 255."
      ],
      "execution_count": null,
      "outputs": []
    },
    {
      "cell_type": "markdown",
      "metadata": {
        "id": "Gym0eIhLemMn",
        "colab_type": "text"
      },
      "source": [
        "# **model training**"
      ]
    },
    {
      "cell_type": "code",
      "metadata": {
        "id": "4PDoEPFeaUWK",
        "colab_type": "code",
        "colab": {}
      },
      "source": [
        "autoencoder = Sequential()\n",
        "\n",
        "input_shape = (512, 512, 3)\n",
        "# Encoder layers\n",
        "autoencoder.add(Conv2D(16, (3, 3), activation='relu', padding='same', kernel_initializer='he_normal', input_shape=input_shape))\n",
        "autoencoder.add(Conv2D(32, (3, 3), activation='relu', padding='same', kernel_initializer='he_normal',name='conv_layer'))\n",
        "autoencoder.add(Conv2D(64, (3, 3), activation='relu', padding='same', kernel_initializer='he_normal',name='conv_layer'))\n",
        "autoencoder.add(MaxPooling2D((2, 2)))\n",
        "autoencoder.add(Conv2D(128, (3, 3), activation='relu', padding='same', kernel_initializer='he_normal',name='conv_layer'))\n",
        "autoencoder.add(Conv2D(64, (3, 3), activation='relu', padding='same', kernel_initializer='he_normal',name='conv_layer'))\n",
        "autoencoder.add(MaxPooling2D((2, 2)))\n",
        "autoencoder.add(Conv2D(32, (3, 3), activation='relu', padding='same', kernel_initializer='he_normal',name='conv_layer'))\n",
        "autoencoder.add(Conv2D(16, (3, 3), activation='relu', padding='same', kernel_initializer='he_normal',name='conv_layer'))\n",
        "\n",
        "autoencoder.add(Conv2D(8, (3, 3), activation='softmax', padding='same', name='encoded_layer'))\n",
        "#decoder layers\n",
        "autoencoder.add(Conv2D(16, (3, 3), activation='relu', padding='same', kernel_initializer='he_normal',name='conv_layer'))\n",
        "autoencoder.add(Conv2D(32, (3, 3), activation='relu', padding='same', kernel_initializer='he_normal',name='conv_layer'))\n",
        "autoencoder.add(UpSampling2D((2, 2)))\n",
        "autoencoder.add(Conv2D(64, (3, 3), activation='relu', padding='same', kernel_initializer='he_normal',name='conv_layer'))\n",
        "autoencoder.add(Conv2D(128, (3, 3), activation='relu', padding='same', kernel_initializer='he_normal',name='conv_layer'))\n",
        "autoencoder.add(UpSampling2D((2, 2)))\n",
        "autoencoder.add(Conv2D(64, (3, 3), activation='relu', padding='same', kernel_initializer='he_normal',name='conv_layer'))\n",
        "autoencoder.add(Conv2D(32, (3, 3), activation='relu', padding='same', kernel_initializer='he_normal',name='conv_layer'))\n",
        "autoencoder.add(Conv2D(16, (3, 3), activation='relu', padding='same', kernel_initializer='he_normal',name='conv_layer'))\n",
        "autoencoder.add(Conv2D(3, (3, 3), activation='softmax', padding='same'))\n",
        "\n"
      ],
      "execution_count": null,
      "outputs": []
    },
    {
      "cell_type": "code",
      "metadata": {
        "id": "hQM4AZiDc4lE",
        "colab_type": "code",
        "colab": {}
      },
      "source": [
        "autoencoder.compile(optimizer='adam', loss='sparse_categorical_crossentropy', metrics=['accuracy'])"
      ],
      "execution_count": null,
      "outputs": []
    },
    {
      "cell_type": "code",
      "metadata": {
        "id": "PIXwgUmUbuwu",
        "colab_type": "code",
        "colab": {}
      },
      "source": [
        "autoencoder.summary()"
      ],
      "execution_count": null,
      "outputs": []
    },
    {
      "cell_type": "markdown",
      "metadata": {
        "id": "Ke2SMC_UeR8C",
        "colab_type": "text"
      },
      "source": [
        "# **installing visualization libraries**"
      ]
    },
    {
      "cell_type": "code",
      "metadata": {
        "id": "g_g2ilHodETe",
        "colab_type": "code",
        "colab": {}
      },
      "source": [
        "pip install pydot"
      ],
      "execution_count": null,
      "outputs": []
    },
    {
      "cell_type": "code",
      "metadata": {
        "id": "6Hfi6-P7dHiu",
        "colab_type": "code",
        "colab": {}
      },
      "source": [
        "pip install graphviz"
      ],
      "execution_count": null,
      "outputs": []
    },
    {
      "cell_type": "markdown",
      "metadata": {
        "id": "uQbxNBgGdUL6",
        "colab_type": "text"
      },
      "source": [
        "# **model visualization libraries**"
      ]
    },
    {
      "cell_type": "code",
      "metadata": {
        "id": "mncvzWWFdOZW",
        "colab_type": "code",
        "colab": {}
      },
      "source": [
        "import pydot\n",
        "import graphviz"
      ],
      "execution_count": null,
      "outputs": []
    },
    {
      "cell_type": "markdown",
      "metadata": {
        "id": "Mkc6xKtmeupK",
        "colab_type": "text"
      },
      "source": [
        "# **model visualization**"
      ]
    },
    {
      "cell_type": "code",
      "metadata": {
        "id": "v1M2v9hfdjcL",
        "colab_type": "code",
        "colab": {}
      },
      "source": [
        "def visual():\n",
        "  tf.keras.utils.plot_model(model,to_file='autoencoder.jpg',show_shape=True,show_layer_names=True,\n",
        "                          rankdir='TB',expand_nested=True,dpi=96)"
      ],
      "execution_count": null,
      "outputs": []
    },
    {
      "cell_type": "code",
      "metadata": {
        "id": "fHHCVYcdiErA",
        "colab_type": "code",
        "colab": {}
      },
      "source": [
        "epoch = 50\n",
        "batch_size = 64\n",
        "training_batch_size = 1000\n",
        "number_training_batch_per_epoch = math.ceil(X_train.shape[0] / training_batch_size)"
      ],
      "execution_count": null,
      "outputs": []
    },
    {
      "cell_type": "markdown",
      "metadata": {
        "id": "AgQ32yvhkDfR",
        "colab_type": "text"
      },
      "source": [
        "# **no.of epochs**"
      ]
    },
    {
      "cell_type": "code",
      "metadata": {
        "id": "-HWvU_2lj0Gj",
        "colab_type": "code",
        "colab": {}
      },
      "source": [
        "for epochs in range(epoch):\n",
        "  print('epochs{}'.format(epochs))"
      ],
      "execution_count": null,
      "outputs": []
    },
    {
      "cell_type": "markdown",
      "metadata": {
        "id": "0RIlBx8ikgMS",
        "colab_type": "text"
      },
      "source": [
        "# **data shuffling**"
      ]
    },
    {
      "cell_type": "code",
      "metadata": {
        "id": "VVilduN8kIuc",
        "colab_type": "code",
        "colab": {}
      },
      "source": [
        "np.random.shuffle(x_train)\n",
        "np.random.shuffle(x_test)"
      ],
      "execution_count": null,
      "outputs": []
    },
    {
      "cell_type": "markdown",
      "metadata": {
        "id": "ExPX6-lz7fDf",
        "colab_type": "text"
      },
      "source": [
        "data visualization"
      ]
    },
    {
      "cell_type": "code",
      "metadata": {
        "id": "rq4mMiNr67Bo",
        "colab_type": "code",
        "colab": {}
      },
      "source": [
        "import umap"
      ],
      "execution_count": 1,
      "outputs": []
    },
    {
      "cell_type": "code",
      "metadata": {
        "id": "lVR_7-3C7S32",
        "colab_type": "code",
        "colab": {}
      },
      "source": [
        "standard_embedding=umap.UMAP(random_state=42).fit_transform(x_train)"
      ],
      "execution_count": null,
      "outputs": []
    },
    {
      "cell_type": "code",
      "metadata": {
        "id": "MJq2ngrY7WNV",
        "colab_type": "code",
        "colab": {}
      },
      "source": [
        "plt.scatter(standard_embedding[:,0],standard_embedding[:,1],s=0.1)"
      ],
      "execution_count": null,
      "outputs": []
    },
    {
      "cell_type": "code",
      "metadata": {
        "id": "_CucuIaZ8OCt",
        "colab_type": "code",
        "colab": {}
      },
      "source": [
        "from sklearn.cluster import KMeans"
      ],
      "execution_count": 3,
      "outputs": []
    },
    {
      "cell_type": "code",
      "metadata": {
        "id": "6RHxV47-Cu7y",
        "colab_type": "code",
        "colab": {}
      },
      "source": [
        "kmeans = KMeans(n_clusters=5, init ='k-means++', max_iter=300, n_init=10,random_state=0 )\n",
        "y_kmeans = kmeans.fit_predict(x_test)"
      ],
      "execution_count": null,
      "outputs": []
    },
    {
      "cell_type": "code",
      "metadata": {
        "id": "2R9A6DiBC5k2",
        "colab_type": "code",
        "colab": {}
      },
      "source": [
        "plt.scatter(x_test[y_kmeans==0, 0], x_test[y_kmeans==0, 1], s=100, c='red', label ='Cluster 1')\n",
        "plt.scatter(x_test[y_kmeans==1, 0], x_test[y_kmeans==1, 1], s=100, c='blue', label ='Cluster 2')\n",
        "plt.scatter(x_test[y_kmeans==2, 0], x_test[y_kmeans==2, 1], s=100, c='green', label ='Cluster 3')\n",
        "plt.scatter(x_test[y_kmeans==3, 0], x_test[y_kmeans==3, 1], s=100, c='cyan', label ='Cluster 4')\n",
        "plt.scatter(x_test[y_kmeans==4, 0], x_test[y_kmeans==4, 1], s=100, c='magenta', label ='Cluster 5')\n",
        "plt.scatter(kmeans.cluster_centers_[:, 0], kmeans.cluster_centers_[:, 1], s=300, c='yellow', label = 'Centroids')\n",
        "plt.show()"
      ],
      "execution_count": null,
      "outputs": []
    },
    {
      "cell_type": "code",
      "metadata": {
        "id": "PVkli0CUkfKN",
        "colab_type": "code",
        "colab": {}
      },
      "source": [
        "for epoch in range(epochs):\n",
        "    print('epoch: {}'.format(epoch))\n",
        "    np.random.shuffle(X_train)\n",
        "    np.random.shuffle(X_test)\n",
        "    for batchnum in range(number_training_batch_per_epoch):\n",
        "        X_train_batch = X_train[batchnum*training_batch_size : (batchnum+1)*training_batch_size]\n",
        "        history=autoencoder.fit(X_train_batch, X_train_batch,\n",
        "                        epochs=1,\n",
        "                        batch_size=batch_size,\n",
        "                        shuffle=True,\n",
        "                        validation_data=(X_test[0:200], X_test[0:200]))"
      ],
      "execution_count": null,
      "outputs": []
    },
    {
      "cell_type": "code",
      "metadata": {
        "id": "BtmTBEkV1xEo",
        "colab_type": "code",
        "colab": {}
      },
      "source": [
        "\n",
        "plt.plot(history.history['loss'])\n",
        "plt.plot(history.history['val_loss'])\n",
        "plt.title('training loss')\n",
        "plt.ylabel('loss')\n",
        "plt.xlabel('epoch')\n",
        "plt.legend(['train', 'test'])\n",
        "plt.show()"
      ],
      "execution_count": null,
      "outputs": []
    },
    {
      "cell_type": "code",
      "metadata": {
        "id": "mzook9Mi2kbk",
        "colab_type": "code",
        "colab": {}
      },
      "source": [
        "decoded_imgs = autoencoder.predict(x_test)"
      ],
      "execution_count": null,
      "outputs": []
    },
    {
      "cell_type": "code",
      "metadata": {
        "id": "dvr8vfER5R9h",
        "colab_type": "code",
        "colab": {}
      },
      "source": [
        "encoder = Model(inputs=autoencoder.input, outputs=autoencoder.get_layer('code').output)\n",
        "encoder.summary()"
      ],
      "execution_count": null,
      "outputs": []
    },
    {
      "cell_type": "code",
      "metadata": {
        "id": "n9Rv0ZmG5czq",
        "colab_type": "code",
        "colab": {}
      },
      "source": [
        "# Use the encoder part to get the 'codes' for each image\n",
        "coded_imgs = encoder.predict(x_test)\n",
        "\n",
        "# This is what an example code looks like, just an 8-byte array\n",
        "coded_imgs[0]"
      ],
      "execution_count": null,
      "outputs": []
    },
    {
      "cell_type": "code",
      "metadata": {
        "id": "MeLCBxCJ3wmZ",
        "colab_type": "code",
        "colab": {}
      },
      "source": [
        "from scipy.spatial.distance import cosine\n",
        "\n",
        "# Use the 'cosine similarity' as a measure of the similarity between\n",
        "# each of the first ten image codes\n",
        "sim = np.zeros((n,n))\n",
        "for i in range(n):\n",
        "    for j in range(n):\n",
        "        rel = cosine(coded_imgs[i], coded_imgs[j])\n",
        "        sim[i,j] = rel\n",
        "\n",
        "# Plot a heat map. The major diagonal is all black, as comparing an image to itself results\n",
        "# in a similarity distance of 0 as it is identical\n",
        "ax = sns.heatmap(sim)"
      ],
      "execution_count": null,
      "outputs": []
    },
    {
      "cell_type": "code",
      "metadata": {
        "id": "SlFaiui04-w9",
        "colab_type": "code",
        "colab": {}
      },
      "source": [
        "img_idx = 60 # Pick on of the images to use as reference\n",
        "plt.imshow(x_test[img_idx].reshape(28,28))\n",
        "src_img_code = coded_imgs[img_idx]"
      ],
      "execution_count": null,
      "outputs": []
    },
    {
      "cell_type": "code",
      "metadata": {
        "id": "g5GhIygp6TD9",
        "colab_type": "code",
        "colab": {}
      },
      "source": [
        "# Function to find similar images to the one supplied by idx\n",
        "def find_similar_images(idx):\n",
        "    src_img_code = coded_imgs[idx]\n",
        "\n",
        "    # calculate the cosine similarity from our reference image to all the other image codes\n",
        "    similarities = [ (cosine(src_img_code, coded_imgs[i]), i) for i in range(len(coded_imgs)) ]\n",
        "    similarities.sort()\n",
        "    similar_idxs = [ i for _,i in similarities ]\n",
        "\n",
        "    # plot top 10 matches\n",
        "    plt.figure(figsize=(20,4))\n",
        "    for i, idx in enumerate(similar_idxs[:n]):\n",
        "        ax = plt.subplot(2, n, i + 1)\n",
        "        ax.axis('off')\n",
        "        if i == 0:\n",
        "          ax.set_title(\"Original\")\n",
        "        else:\n",
        "          ax.set_title(idx)\n",
        "        plt.imshow(x_test[idx].reshape(28,28))\n",
        "\n",
        "# Run for a sample of our images\n",
        "for i in [10, 20, 30, 40, 50, 60]:\n",
        "    find_similar_images(i)\n",
        "    plt.show()"
      ],
      "execution_count": null,
      "outputs": []
    }
  ]
}